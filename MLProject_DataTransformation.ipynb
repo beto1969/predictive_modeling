{
  "nbformat": 4,
  "nbformat_minor": 0,
  "metadata": {
    "colab": {
      "provenance": []
    },
    "kernelspec": {
      "name": "python3",
      "display_name": "Python 3"
    },
    "language_info": {
      "name": "python"
    }
  },
  "cells": [
    {
      "cell_type": "code",
      "execution_count": 2,
      "metadata": {
        "colab": {
          "base_uri": "https://localhost:8080/"
        },
        "id": "C9GS0wUvmO-Y",
        "outputId": "3f89f1b9-a1fe-4615-834f-5029c3849aa3"
      },
      "outputs": [
        {
          "output_type": "stream",
          "name": "stderr",
          "text": [
            "<ipython-input-2-610b9730a35f>:16: FutureWarning: The default value of numeric_only in DataFrameGroupBy.mean is deprecated. In a future version, numeric_only will default to False. Either specify numeric_only or select only columns which should be valid for the function.\n",
            "  df_telemetry_daily = df_telemetry.groupby([df_telemetry['datetime'].dt.date, 'machineID']).mean().reset_index()\n",
            "<ipython-input-2-610b9730a35f>:24: FutureWarning: Indexing with multiple keys (implicitly converted to a tuple of keys) will be deprecated, use a list instead.\n",
            "  df_errors_daily = df_errors.groupby([df_errors['datetime'].dt.date, 'machineID'])[f'error1', 'error2', 'error3', 'error4', 'error5'].sum().reset_index()\n",
            "<ipython-input-2-610b9730a35f>:32: FutureWarning: Indexing with multiple keys (implicitly converted to a tuple of keys) will be deprecated, use a list instead.\n",
            "  df_failures_daily = df_failures.groupby([df_failures['datetime'].dt.date, 'machineID'])[f'comp1_fail', 'comp2_fail', 'comp3_fail', 'comp4_fail'].sum().reset_index()\n",
            "<ipython-input-2-610b9730a35f>:40: FutureWarning: Indexing with multiple keys (implicitly converted to a tuple of keys) will be deprecated, use a list instead.\n",
            "  df_maint_daily = df_maint.groupby([df_maint['datetime'].dt.date, 'machineID'])[f'comp1_maint', 'comp2_maint', 'comp3_maint', 'comp4_maint'].sum().reset_index()\n"
          ]
        }
      ],
      "source": [
        "import pandas as pd\n",
        "\n",
        "# Read CSV Files\n",
        "df_errors = pd.read_csv('PdM_errors.csv')\n",
        "df_failures = pd.read_csv('PdM_failures.csv')\n",
        "df_machines = pd.read_csv('PdM_machines.csv')\n",
        "df_maint = pd.read_csv('PdM_maint.csv')\n",
        "df_telemetry = pd.read_csv('PdM_telemetry.csv')\n",
        "\n",
        "# Convert datetime columns to datetime objects for accurate merging and manipulation\n",
        "df_errors['datetime'] = pd.to_datetime(df_errors['datetime'])\n",
        "df_failures['datetime'] = pd.to_datetime(df_failures['datetime'])\n",
        "df_maint['datetime'] = pd.to_datetime(df_maint['datetime'])\n",
        "df_telemetry['datetime'] = pd.to_datetime(df_telemetry['datetime'])\n",
        "\n",
        "# Aggregate telemetry data to daily averages to match the frequency of maintenance and failure records\n",
        "df_telemetry_daily = df_telemetry.groupby([df_telemetry['datetime'].dt.date, 'machineID']).mean().reset_index()\n",
        "df_telemetry_daily['datetime'] = pd.to_datetime(df_telemetry_daily['datetime'])\n",
        "\n",
        "# error indicators (binary columns for error 1 to 5)\n",
        "for i in range(1, 6):\n",
        "    df_errors[f'error{i}'] = (df_errors['errorID'] == f'error{i}').astype(int)\n",
        "\n",
        "# Summarize errors daily by machineID\n",
        "df_errors_daily = df_errors.groupby([df_errors['datetime'].dt.date, 'machineID'])[f'error1', 'error2', 'error3', 'error4', 'error5'].sum().reset_index()\n",
        "df_errors_daily['datetime'] = pd.to_datetime(df_errors_daily['datetime'])\n",
        "\n",
        "# Creates failure indicators (binary columns for comp1_fail to comp4_fail)\n",
        "for i in range(1, 5):\n",
        "    df_failures[f'comp{i}_fail'] = (df_failures['failure'] == f'comp{i}').astype(int)\n",
        "\n",
        "# Summarize failures daily by machineID\n",
        "df_failures_daily = df_failures.groupby([df_failures['datetime'].dt.date, 'machineID'])[f'comp1_fail', 'comp2_fail', 'comp3_fail', 'comp4_fail'].sum().reset_index()\n",
        "df_failures_daily['datetime'] = pd.to_datetime(df_failures_daily['datetime'])\n",
        "\n",
        "# Creates maintenance indicators (binary columns for comp1_maint to comp4_maint)\n",
        "for i in range(1, 5):\n",
        "    df_maint[f'comp{i}_maint'] = (df_maint['comp'] == f'comp{i}').astype(int)\n",
        "\n",
        "# Summarize maintenance daily by machineID\n",
        "df_maint_daily = df_maint.groupby([df_maint['datetime'].dt.date, 'machineID'])[f'comp1_maint', 'comp2_maint', 'comp3_maint', 'comp4_maint'].sum().reset_index()\n",
        "df_maint_daily['datetime'] = pd.to_datetime(df_maint_daily['datetime'])\n",
        "\n",
        "# Merge processed DataFrames\n",
        "df_final = df_telemetry_daily.merge(df_machines, on='machineID', how='left')\n",
        "df_final = df_final.merge(df_errors_daily, on=['datetime', 'machineID'], how='left').fillna(0)\n",
        "df_final = df_final.merge(df_failures_daily, on=['datetime', 'machineID'], how='left').fillna(0)\n",
        "df_final = df_final.merge(df_maint_daily, on=['datetime', 'machineID'], how='left').fillna(0)\n",
        "\n",
        "# Ensure the final DataFrame includes all required columns\n",
        "required_columns = [\n",
        "    'machineID', 'model', 'age', 'volt', 'rotate', 'pressure', 'vibration',\n",
        "    'error1', 'error2', 'error3', 'error4', 'error5',\n",
        "    'comp1_fail', 'comp2_fail', 'comp3_fail', 'comp4_fail',\n",
        "    'comp1_maint', 'comp2_maint', 'comp3_maint', 'comp4_maint'\n",
        "]\n",
        "\n",
        "# Reorder and filter the columns to match the requirement\n",
        "df_final = df_final[required_columns]\n",
        "\n",
        "# Save the final DataFrame\n",
        "output_path = 'final_dataframe.csv'\n",
        "df_final.to_csv(output_path, index=False)"
      ]
    }
  ]
}